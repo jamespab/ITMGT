{
 "cells": [
  {
   "cell_type": "code",
   "execution_count": 19,
   "id": "3b08c6ec-c71f-4f04-82f6-b47a6d2d5ccd",
   "metadata": {},
   "outputs": [],
   "source": [
    "import pandas as pd\n",
    "import json \n",
    "import requests"
   ]
  },
  {
   "cell_type": "code",
   "execution_count": 20,
   "id": "987589dd-75c0-4d7f-859d-1dd45d424cbc",
   "metadata": {},
   "outputs": [],
   "source": [
    "Invoices = \"https://drive.google.com/uc?export=download&id=1_JUP1EYc4r1jgNpeLh7mMQxsKOsT-pcs\"\n",
    "\n",
    "Customers = \"https://drive.google.com/uc?export=download&id=1n6ePaU-cPfzhBKnSeGeynAxR9IYmCS0w\""
   ]
  },
  {
   "cell_type": "code",
   "execution_count": 21,
   "id": "da46bae4-bee0-42ce-8829-a4c496e2c359",
   "metadata": {},
   "outputs": [],
   "source": [
    "df_invoices = pd.read_csv(Invoices)\n",
    "response = requests.get(Customers)\n",
    "customer_dictionary = json.loads(response.text)\n",
    "\n",
    "\n"
   ]
  },
  {
   "cell_type": "code",
   "execution_count": 22,
   "id": "e69abd42-a1c5-458f-bad4-2eacbf22a532",
   "metadata": {},
   "outputs": [
    {
     "name": "stdout",
     "output_type": "stream",
     "text": [
      "4992\n"
     ]
    }
   ],
   "source": [
    "#Easy(1) \n",
    "response = requests.get(Customers)\n",
    "customer_dictionary = json.loads(response.text)\n",
    "\n",
    "customers_dataframe = pd.DataFrame(customer_dictionary)  \n",
    "customers_dataframe[\"full_name\"] = customers_dataframe['first_name'] + ' ' + customers_dataframe['last_name']  # Concatenate strings, not dictionaries\n",
    "\n",
    "print(customers[\"full_name\"].nunique())"
   ]
  },
  {
   "cell_type": "code",
   "execution_count": 23,
   "id": "9abfa076-a7db-4373-9caf-78c4be66f9ae",
   "metadata": {},
   "outputs": [
    {
     "name": "stdout",
     "output_type": "stream",
     "text": [
      "['Clothing' 'Shoes' 'Books' 'Cosmetics' 'Food & Beverage' 'Toys'\n",
      " 'Technology' 'Souvenir']\n",
      "8\n"
     ]
    }
   ],
   "source": [
    "#Easy(2)\n",
    "unique_category_list = df_invoices['category'].unique()\n",
    "\n",
    "print(unique_category_list)\n",
    "print(len(unique_category_list))\n"
   ]
  },
  {
   "cell_type": "code",
   "execution_count": 24,
   "id": "d0a3c5cb-35e5-4e37-a7ae-a7b3d6e31a21",
   "metadata": {},
   "outputs": [
    {
     "name": "stdout",
     "output_type": "stream",
     "text": [
      "payment_method\n",
      "Cash    44447\n",
      "Name: count, dtype: int64\n"
     ]
    }
   ],
   "source": [
    "#Easy 3 \n",
    "payment_counter = df_invoices['payment_method'].value_counts()\n",
    "most_common = payment_counter.head(1)\n",
    "print(most_common)"
   ]
  },
  {
   "cell_type": "code",
   "execution_count": 25,
   "id": "4e3c5b41-8165-488e-a5d4-5f71a196647a",
   "metadata": {},
   "outputs": [
    {
     "name": "stdout",
     "output_type": "stream",
     "text": [
      "category\n",
      "Clothing      1.139968e+08\n",
      "Shoes         6.655345e+07\n",
      "Technology    5.786235e+07\n",
      "Name: sales, dtype: float64\n"
     ]
    }
   ],
   "source": [
    "#Medium (1)\n",
    "df_invoices['sales'] = df_invoices['quantity'] * df_invoices['price']\n",
    "sales_by_category = df_invoices.groupby('category')['sales'].sum()\n",
    "descending_sales = sales_by_category.sort_values(ascending=False)\n",
    "most_sales = descending_sales.head(3)\n",
    "print(most_sales)"
   ]
  },
  {
   "cell_type": "code",
   "execution_count": 26,
   "id": "7b1b8b22-f6c5-4674-aabe-a7fee904bf84",
   "metadata": {},
   "outputs": [
    {
     "name": "stdout",
     "output_type": "stream",
     "text": [
      "4445825.569999999\n"
     ]
    }
   ],
   "source": [
    "#Medium (2)\n",
    "number_of_ages = len(customer_dictionary['age'])\n",
    "age_list = customer_dictionary['age']\n",
    "keys_over_45 = []\n",
    "for i in range(number_of_ages):\n",
    "   key = str(i)\n",
    "   if key in age_list and age_list[key] != None:\n",
    "        age = int(age_list[key])\n",
    "        if age > 45:\n",
    "            keys_over_45.append(key)\n",
    "\n",
    "oldies_series = pd.Series(keys_over_45)\n",
    "\n",
    "col_slice_1 = ['price', 'customer_id', 'quantity']\n",
    "row_slice_1 = [int(key) for key in keys_over_45]\n",
    "filtered_quantity_price = df_invoices.iloc[row_slice_1, [df_invoices.columns.get_loc(col) for col in col_slice_1]]\n",
    "\n",
    "over_45_sales = filtered_quantity_price['price'] *filtered_quantity_price['quantity']\n",
    "print(over_45_sales.sum())"
   ]
  },
  {
   "cell_type": "code",
   "execution_count": 27,
   "id": "fbca8453-9a21-44a3-9df4-bf34aab5f0e6",
   "metadata": {},
   "outputs": [
    {
     "name": "stdout",
     "output_type": "stream",
     "text": [
      "['Winter', 'Spring', 'Summer', 'Autumn']\n",
      "[29770, 23914, 23093, 22680]\n"
     ]
    },
    {
     "data": {
      "text/plain": [
       "<function matplotlib.pyplot.show(close=None, block=None)>"
      ]
     },
     "execution_count": 27,
     "metadata": {},
     "output_type": "execute_result"
    },
    {
     "data": {
      "image/png": "[encoded data removed]",
      "text/plain": [
       "<Figure size 640x480 with 1 Axes>"
      ]
     },
     "metadata": {},
     "output_type": "display_data"
    }
   ],
   "source": [
    "#Medium (3)\n",
    "import matplotlib.pyplot as plt\n",
    "import pandas as pd \n",
    "\n",
    "date_series = df_invoices['invoice_date']\n",
    "converted_dates = pd.to_datetime(date_series, dayfirst=True)\n",
    "\n",
    "def season(converted_dates):\n",
    "    \n",
    "    month = converted_dates.month\n",
    "    if month in [12,1,2]:\n",
    "        return \"Winter\"\n",
    "    elif month in [3,4,5]: \n",
    "        return \"Spring\"\n",
    "    elif month in [6,7,8]:\n",
    "        return \"Summer\"\n",
    "    else:\n",
    "        return \"Autumn\"\n",
    "\n",
    "season_counter = converted_dates.map(season)\n",
    "total_count = season_counter.value_counts() \n",
    "\n",
    "\n",
    "seasons_list = total_count.index.tolist()\n",
    "quantity_per_season = total_count.values.tolist()\n",
    "print(seasons_list)\n",
    "print(quantity_per_season)\n",
    "plt.bar(seasons_list,quantity_per_season, color = 'green')\n",
    "\n",
    "plt.xlabel('Season')\n",
    "plt.ylabel('Amount of Sales')\n",
    "plt.title('Sales per Season')\n",
    "plt.grid(axis='y', linestyle='--', alpha=0.5)\n",
    "plt.tight_layout()\n",
    "plt.show\n"
   ]
  },
  {
   "cell_type": "code",
   "execution_count": 28,
   "id": "1717b75f-3e7d-459a-b90d-6ea764be9803",
   "metadata": {},
   "outputs": [
    {
     "name": "stdout",
     "output_type": "stream",
     "text": [
      "age_group        10.0-19.0  20.0-29.0  30.0-39.0  40.0-49.0  50.0-59.0  \\\n",
      "category                                                                 \n",
      "Books                15.15    3999.60    3742.05    3590.55    3696.60   \n",
      "Clothing          94225.12  499633.20  477127.20  609162.40  502934.08   \n",
      "Cosmetics         12685.92   27323.52   39155.58   39521.52   31389.52   \n",
      "Food & Beverage     894.33    3922.50    5083.56    4492.57    4597.17   \n",
      "Shoes             66018.70  297084.15  507743.82  316889.76  304286.19   \n",
      "Souvenir            304.98    4128.96    4257.99    3612.84    4269.72   \n",
      "Technology        87150.00  305550.00  344400.00  340200.00  330750.00   \n",
      "Toys               2293.76   19640.32   14658.56   14837.76   17059.84   \n",
      "\n",
      "age_group        60.0-69.0  70.0-79.0  80.0-89.0  \n",
      "category                                          \n",
      "Books              5196.45    2227.05    2848.20  \n",
      "Clothing         541944.48  391604.40  230761.52  \n",
      "Cosmetics         29966.42   25249.86   14840.90  \n",
      "Food & Beverage    4006.18    2928.80    1040.77  \n",
      "Shoes            327692.82  183051.85   91225.84  \n",
      "Souvenir           3284.40    2780.01     609.96  \n",
      "Technology       325500.00  168000.00  107100.00  \n",
      "Toys              16988.16   16558.08    2078.72  \n"
     ]
    }
   ],
   "source": [
    "#Hard(1)\n",
    "number_of_ages = len(customer_dictionary['age'])\n",
    "age_list = customer_dictionary['age']\n",
    "valid_keys = []\n",
    "for x in range(number_of_ages):\n",
    "   id_key = str(x)\n",
    "   if id_key in age_list and age_list[id_key] != None:\n",
    "        age = int(age_list[id_key])  \n",
    "        valid_keys.append(id_key)  \n",
    "\n",
    "valid_age_series = [age_list[key] for key in valid_keys]\n",
    "df = pd.DataFrame({'valid_age_group': valid_age_series})\n",
    "\n",
    "df['age_group'] = (df['valid_age_group'] // 10 * 10 ).astype(str) + '-' + (df['valid_age_group']//10 *10 +9).astype(str)\n",
    "df['category'] = df_invoices['category']\n",
    "df['sales'] = df_invoices['quantity'] * df_invoices['price']\n",
    "\n",
    "col_slice_2 = ['price', 'customer_id', 'quantity']\n",
    "row_slice_2 = [int(key) for key in valid_keys]\n",
    "valid_quantity_price = df_invoices.iloc[row_slice_2, [df_invoices.columns.get_loc(col) for col in col_slice_2]]\n",
    "valid_sales = valid_quantity_price['price'] * valid_quantity_price ['quantity']\n",
    "\n",
    "pivot=df.groupby(['category','age_group'])['sales'].sum().unstack(fill_value=0)\n",
    "print(pivot)"
   ]
  },
  {
   "cell_type": "code",
   "execution_count": null,
   "id": "7126fd4b-9c3e-42dc-94d5-782d951e8323",
   "metadata": {},
   "outputs": [],
   "source": []
  }
 ],
 "metadata": {
  "kernelspec": {
   "display_name": "Python [conda env:base] *",
   "language": "python",
   "name": "conda-base-py"
  },
  "language_info": {
   "codemirror_mode": {
    "name": "ipython",
    "version": 3
   },
   "file_extension": ".py",
   "mimetype": "text/x-python",
   "name": "python",
   "nbconvert_exporter": "python",
   "pygments_lexer": "ipython3",
   "version": "3.12.7"
  }
 },
 "nbformat": 4,
 "nbformat_minor": 5
}
