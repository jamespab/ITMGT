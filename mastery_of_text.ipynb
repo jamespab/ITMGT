{
 "cells": [
  {
   "cell_type": "code",
   "execution_count": 1,
   "id": "37d63e2d-8e68-4b76-ad70-8d32ff7fce30",
   "metadata": {},
   "outputs": [],
   "source": [
    "import urllib.request"
   ]
  },
  {
   "cell_type": "code",
   "execution_count": 29,
   "id": "bf7c057b-393f-4c64-93db-ed07ee10007b",
   "metadata": {},
   "outputs": [],
   "source": [
    "pg10 = urllib.request.urlopen(\"https://www.gutenberg.org/cache/epub/10/pg10.txt\")\n",
    "pg10_content = pg10.read().decode(\"utf-8\")"
   ]
  },
  {
   "cell_type": "code",
   "execution_count": 30,
   "id": "aba8cb57-2f96-452d-9602-45e667a88a08",
   "metadata": {},
   "outputs": [
    {
     "data": {
      "text/plain": [
       "99968"
      ]
     },
     "execution_count": 30,
     "metadata": {},
     "output_type": "execute_result"
    }
   ],
   "source": [
    "#How many lines does the string have?\n",
    "len(pg10_content.splitlines())"
   ]
  },
  {
   "cell_type": "code",
   "execution_count": 31,
   "id": "8dd1c531-8e7d-4cc2-8663-0bb2b8d5d2d2",
   "metadata": {},
   "outputs": [
    {
     "name": "stdout",
     "output_type": "stream",
     "text": [
      "824538\n"
     ]
    }
   ],
   "source": [
    "#2 How many words does the string have? (where a word is any set of directly-adjacent alphabet characters)\n",
    "print(str(len(pg10_content.split())))"
   ]
  },
  {
   "cell_type": "code",
   "execution_count": 33,
   "id": "914b35b1-a9ad-46f7-9338-cfa7f62f0ff6",
   "metadata": {},
   "outputs": [
    {
     "name": "stdout",
     "output_type": "stream",
     "text": [
      "113\n"
     ]
    }
   ],
   "source": [
    "#3 How many times does the word \"apostle\", ignoring capitalization, appear in the string?\n",
    "print(str((pg10_content.count(\"apostle\")) + (pg10_content.count(\"Apostle\"))))"
   ]
  },
  {
   "cell_type": "code",
   "execution_count": 48,
   "id": "be8e0232-47d6-44f7-9134-3aff56710ed4",
   "metadata": {},
   "outputs": [
    {
     "name": "stdout",
     "output_type": "stream",
     "text": [
      "{'the'}\n"
     ]
    }
   ],
   "source": [
    "#4 What is the most common word, ignoring capitalization, in the string? (where a word is any set of directly-adjacent alphabet characters)\n",
    "standardized_text = pg10_content.lower()\n",
    "import re\n",
    "words = re.findall(r'\\b\\w+\\b', standardized_text)\n",
    "word_count = {}\n",
    "for word in words:\n",
    "    word_count[word] = word_count.get(word, 0) + 1\n",
    "\n",
    "most_frequent = max(word_count, key=word_count.get)\n",
    "print( {most_frequent} )\n"
   ]
  },
  {
   "cell_type": "code",
   "execution_count": null,
   "id": "2276c73c-ce5a-4992-9275-13ed7988b4dd",
   "metadata": {},
   "outputs": [],
   "source": []
  }
 ],
 "metadata": {
  "kernelspec": {
   "display_name": "Python [conda env:base] *",
   "language": "python",
   "name": "conda-base-py"
  },
  "language_info": {
   "codemirror_mode": {
    "name": "ipython",
    "version": 3
   },
   "file_extension": ".py",
   "mimetype": "text/x-python",
   "name": "python",
   "nbconvert_exporter": "python",
   "pygments_lexer": "ipython3",
   "version": "3.12.7"
  }
 },
 "nbformat": 4,
 "nbformat_minor": 5
}
